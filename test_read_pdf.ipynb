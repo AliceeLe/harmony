{
 "cells": [
  {
   "cell_type": "code",
   "execution_count": 1,
   "metadata": {},
   "outputs": [
    {
     "name": "stderr",
     "output_type": "stream",
     "text": [
      "/Users/chauanhle/Library/Mobile Documents/com~apple~CloudDocs/Documents/CMU/17-313/harmonyWrapper/harmonyAPI/harmonyapi/harmony/.venv/lib/python3.12/site-packages/tqdm/auto.py:21: TqdmWarning: IProgress not found. Please update jupyter and ipywidgets. See https://ipywidgets.readthedocs.io/en/stable/user_install.html\n",
      "  from .autonotebook import tqdm as notebook_tqdm\n"
     ]
    },
    {
     "name": "stdout",
     "output_type": "stream",
     "text": [
      "Warning: transformers not available. To use transformers, run pip install sentence-transformers\n"
     ]
    }
   ],
   "source": [
    "from harmony import convert_pdf_to_instruments\n",
    "from harmony.schemas.requests.text import RawFile\n",
    "from harmony.util.file_helper import load_instruments_from_local_file\n",
    "import base64"
   ]
  },
  {
   "cell_type": "code",
   "execution_count": null,
   "metadata": {},
   "outputs": [],
   "source": [
    "with open(\"gad-7.pdf\", \"rb\") as file: \n",
    "    byte_data = file.read() \n",
    "\n",
    "encoded = \",\" + base64.urlsafe_b64encode(byte_data).decode(\"ascii\")"
   ]
  },
  {
   "cell_type": "code",
   "execution_count": null,
   "metadata": {},
   "outputs": [],
   "source": [
    "raw_file = RawFile.model_validate(RawFile.model_validate({\n",
    "    \"file_id\": \"d39f31718513413fbfc620c6b6135d0c\",\n",
    "    \"file_name\": \"GAD-7.pdf\",\n",
    "    \"file_type\": \"pdf\",\n",
    "    \"content\": encoded}))\n",
    "convert_pdf_to_instruments(raw_file)"
   ]
  },
  {
   "cell_type": "code",
   "execution_count": null,
   "metadata": {},
   "outputs": [],
   "source": [
    "# If this previous cells work, then this should work with no error \n",
    "load_instruments_from_local_file(\"gad-7.pdf\")"
   ]
  },
  {
   "cell_type": "markdown",
   "metadata": {},
   "source": [
    "### Use PDFKIT to convert html to pdf, then handle the content as if it comes from a pdf file"
   ]
  },
  {
   "cell_type": "code",
   "execution_count": null,
   "metadata": {},
   "outputs": [],
   "source": [
    "import pdfkit\n",
    "import uuid "
   ]
  },
  {
   "cell_type": "code",
   "execution_count": 2,
   "metadata": {},
   "outputs": [
    {
     "name": "stdout",
     "output_type": "stream",
     "text": [
      "Preparing data for Tika\n",
      "Calling Tika\n",
      "Got response from Tika\n",
      "Parsed response from Tika\n"
     ]
    },
    {
     "data": {
      "text/plain": [
       "[Instrument(file_id='c9f7de7532ab4fc18fc3600ab4d88d17', instrument_id='87046904c0bc419599994aaa13437331', instrument_name='GAD-7.html', file_name='GAD-7.html', file_type=None, file_section=None, study=None, sweep=None, metadata=None, language=<Language.English: 'en'>, questions=[Question(question_no='1', question_intro=None, question_text='Over the last 2 weeks, how often have you been bothered by the following problems?', options=[], source_page=0, instrument_id=None, instrument_name=None, topics_auto=None, topics_strengths=None, nearest_match_from_mhc_auto=None, closest_catalogue_question_match=None, seen_in_catalogue_instruments=None), Question(question_no='2', question_intro=None, question_text='Several days', options=[], source_page=0, instrument_id=None, instrument_name=None, topics_auto=None, topics_strengths=None, nearest_match_from_mhc_auto=None, closest_catalogue_question_match=None, seen_in_catalogue_instruments=None), Question(question_no='3', question_intro=None, question_text='More than half the days', options=[], source_page=0, instrument_id=None, instrument_name=None, topics_auto=None, topics_strengths=None, nearest_match_from_mhc_auto=None, closest_catalogue_question_match=None, seen_in_catalogue_instruments=None), Question(question_no='4', question_intro=None, question_text='Nearly every day', options=[], source_page=0, instrument_id=None, instrument_name=None, topics_auto=None, topics_strengths=None, nearest_match_from_mhc_auto=None, closest_catalogue_question_match=None, seen_in_catalogue_instruments=None), Question(question_no='5', question_intro=None, question_text='Feeling nervous, anxious, or on edge', options=[], source_page=0, instrument_id=None, instrument_name=None, topics_auto=None, topics_strengths=None, nearest_match_from_mhc_auto=None, closest_catalogue_question_match=None, seen_in_catalogue_instruments=None), Question(question_no='6', question_intro=None, question_text='Not being able to stop or control worrying', options=[], source_page=0, instrument_id=None, instrument_name=None, topics_auto=None, topics_strengths=None, nearest_match_from_mhc_auto=None, closest_catalogue_question_match=None, seen_in_catalogue_instruments=None), Question(question_no='7', question_intro=None, question_text='Worrying too much about different things', options=[], source_page=0, instrument_id=None, instrument_name=None, topics_auto=None, topics_strengths=None, nearest_match_from_mhc_auto=None, closest_catalogue_question_match=None, seen_in_catalogue_instruments=None), Question(question_no='8', question_intro=None, question_text='Trouble relaxing', options=[], source_page=0, instrument_id=None, instrument_name=None, topics_auto=None, topics_strengths=None, nearest_match_from_mhc_auto=None, closest_catalogue_question_match=None, seen_in_catalogue_instruments=None), Question(question_no='9', question_intro=None, question_text='Being so restless that it is hard to sit still', options=[], source_page=0, instrument_id=None, instrument_name=None, topics_auto=None, topics_strengths=None, nearest_match_from_mhc_auto=None, closest_catalogue_question_match=None, seen_in_catalogue_instruments=None), Question(question_no='10', question_intro=None, question_text='Becoming easily annoyed or irritable', options=[], source_page=0, instrument_id=None, instrument_name=None, topics_auto=None, topics_strengths=None, nearest_match_from_mhc_auto=None, closest_catalogue_question_match=None, seen_in_catalogue_instruments=None), Question(question_no='11', question_intro=None, question_text='Feeling afraid as if something awful might happen', options=[], source_page=0, instrument_id=None, instrument_name=None, topics_auto=None, topics_strengths=None, nearest_match_from_mhc_auto=None, closest_catalogue_question_match=None, seen_in_catalogue_instruments=None)], closest_catalogue_instrument_matches=None)]"
      ]
     },
     "execution_count": 2,
     "metadata": {},
     "output_type": "execute_result"
    }
   ],
   "source": [
    "load_instruments_from_local_file(\"GAD-7.html\")"
   ]
  }
 ],
 "metadata": {
  "kernelspec": {
   "display_name": ".venv",
   "language": "python",
   "name": "python3"
  },
  "language_info": {
   "codemirror_mode": {
    "name": "ipython",
    "version": 3
   },
   "file_extension": ".py",
   "mimetype": "text/x-python",
   "name": "python",
   "nbconvert_exporter": "python",
   "pygments_lexer": "ipython3",
   "version": "3.12.4"
  }
 },
 "nbformat": 4,
 "nbformat_minor": 2
}
